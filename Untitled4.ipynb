{
  "nbformat": 4,
  "nbformat_minor": 0,
  "metadata": {
    "colab": {
      "provenance": []
    },
    "kernelspec": {
      "name": "python3",
      "display_name": "Python 3"
    },
    "language_info": {
      "name": "python"
    }
  },
  "cells": [
    {
      "cell_type": "code",
      "execution_count": null,
      "metadata": {
        "id": "ktkYN4-L1hh-"
      },
      "outputs": [],
      "source": [
        "1. Discuss the scenarios where multithreading is preferable to multiprocessing and scenarios where multiprocessing is a better choice.\n",
        "\n",
        "2. Describe what a process pool is and how it helps in managing multiple processes efficiently.\n",
        "\n",
        "3. Explain what multiprocessing is and why it is used in Python programs.\n",
        "\n",
        "4. Write a Python program using multithreading where one thread adds numbers to a list, and another thread removes numbers from the list. Implement a mechanism to avoid race conditions using threading.Lock.\n",
        "\n",
        "5. Describe the methods and tools available in Python for safely sharing data between threads and processes.\n",
        "\n",
        "6. Discuss why it's crucial to handle exceptions in concurrent programs and the techniques available for doing so.\n",
        "\n",
        "7. Create a program that uses a thread pool to calculate the factorial of numbers from 1 to 10 concurrently, Use concurrent.futures.ThreadPoolExecutor to manage the threads,\n",
        "\n",
        "8. Create a Python program that uses multiprocessing Pool to compute the square of numbers from 1 to 10 in parallel. Measure the time taken to perform this computation using a pool of different sizes (eg. 24,8 processes).\n"
      ]
    },
    {
      "cell_type": "code",
      "source": [
        "1. Discuss the scenarios where multithreading is preferable to multiprocessing and scenarios where multiprocessing is a better choice.\n",
        "ANS-\n",
        "Scenarios where multithreading is preferable to multiprocessing:\n",
        "\n",
        "1.I/O-bound tasks: Multithreading is ideal for tasks that involve a lot of waiting for I/O, such as reading/writing to disk, network communication, or database queries. In these cases, threads can switch while waiting, making efficient use of the CPU.\n",
        "2.Lightweight tasks: Threads share memory space, making communication between them faster than between processes. This is beneficial for tasks that don't need much CPU power but require faster data sharing.\n",
        "3.Limited system resources: Since threads are lighter than processes (they share the same memory space), they consume less overhead in terms of memory and resources.\n",
        "\n",
        "Scenarios where multiprocessing is better:\n",
        "\n",
        "1.CPU-bound tasks: Multiprocessing is preferred for tasks that require heavy computation, such as large matrix operations, image processing, or simulations, as it utilizes multiple cores.\n",
        "2.Avoiding GIL: In Python, the Global Interpreter Lock (GIL) limits the execution of multiple threads on multiple CPU cores. Multiprocessing can bypass the GIL by creating separate processes, each with its own memory space and interpreter.\n",
        "3.Fault isolation: If a process crashes, it doesn't affect the other processes, unlike threads that share the same memory space."
      ],
      "metadata": {
        "id": "E4mzyPFE1qPU"
      },
      "execution_count": null,
      "outputs": []
    },
    {
      "cell_type": "code",
      "source": [
        "2. Describe what a process pool is and how it helps in managing multiple processes efficiently.\n",
        "ANS-\n",
        "A process pool is a programming pattern used to manage multiple processes efficiently. It involves creating a pool of worker processes that can be reused to perform tasks. This approach helps in several ways:\n",
        "\n",
        "Resource Management: By limiting the number of processes, a process pool prevents the system from being overwhelmed by too many concurrent processes, which can lead to resource exhaustion.\n",
        "Performance Improvement: Reusing existing processes reduces the overhead associated with creating and destroying processes repeatedly. This can lead to better performance, especially for tasks that are CPU-bound.\n",
        "Simplified Code: Using a process pool can simplify the code needed to manage multiple processes, as the pool handles the creation, scheduling, and termination of processes."
      ],
      "metadata": {
        "id": "ZIbXb1OF1sRZ"
      },
      "execution_count": null,
      "outputs": []
    },
    {
      "cell_type": "code",
      "source": [
        "3. Explain what multiprocessing is and why it is used in Python programs.\n",
        "ANS-\n",
        "Multiprocessing is a technique used to execute multiple tasks simultaneously in a Python program. It involves creating separate processes, each running independently on its own CPU core. This can significantly improve the performance of applications that are computationally intensive or require handling multiple tasks concurrently.\n",
        "\n",
        "Why Use Multiprocessing in Python?\n",
        "\n",
        "1.CPU-bound tasks: For tasks that are heavily reliant on the CPU, multiprocessing can distribute the workload across multiple cores, reducing the overall execution time.\n",
        "2.I/O-bound tasks: While I/O operations (like reading from files or network requests) can be blocking, multiprocessing can allow other processes to continue executing while waiting for I/O to complete.\n",
        "3.Parallel processing: When multiple independent tasks can be processed simultaneously, multiprocessing can take advantage of modern multi-core processors.\n",
        "4.Improved responsiveness: By offloading tasks to separate processes, the main process can remain responsive to user input or other events."
      ],
      "metadata": {
        "id": "hsnXq_fH1ydo"
      },
      "execution_count": null,
      "outputs": []
    },
    {
      "cell_type": "code",
      "source": [
        "4. Write a Python program using multithreading where one thread adds numbers to a list, and another thread removes numbers from the list. Implement a mechanism to avoid race conditions using threading.Lock.\n",
        "ANS-"
      ],
      "metadata": {
        "id": "A8DF1ET5DtpT"
      },
      "execution_count": null,
      "outputs": []
    },
    {
      "cell_type": "code",
      "source": [
        "\n",
        "import threading\n",
        "import time\n",
        "\n",
        "# Shared resource (list of numbers)\n",
        "numbers = []\n",
        "\n",
        "# Lock to avoid race conditions\n",
        "lock = threading.Lock()\n",
        "\n",
        "# Thread 1: Adds numbers to the list\n",
        "def add_numbers():\n",
        "    for i in range(1, 11):  # Adding numbers 1 to 10\n",
        "        time.sleep(1)  # Simulate a delay\n",
        "        with lock:  # Acquire the lock before modifying the shared list\n",
        "            numbers.append(i)\n",
        "            print(f\"Added: {i}\")\n",
        "        # Lock is automatically released when exiting the 'with' block\n",
        "\n",
        "# Thread 2: Removes numbers from the list\n",
        "def remove_numbers():\n",
        "    for i in range(1, 11):\n",
        "        time.sleep(1.5)  # Simulate a delay\n",
        "        with lock:  # Acquire the lock before modifying the shared list\n",
        "            if numbers:  # Check if the list is not empty\n",
        "                removed = numbers.pop(0)\n",
        "                print(f\"Removed: {removed}\")\n",
        "        # Lock is automatically released when exiting the 'with' block\n",
        "\n",
        "# Create the threads\n",
        "t1 = threading.Thread(target=add_numbers)\n",
        "t2 = threading.Thread(target=remove_numbers)\n",
        "\n",
        "# Start the threads\n",
        "t1.start()\n",
        "t2.start()\n",
        "\n",
        "# Wait for both threads to finish\n",
        "t1.join()\n",
        "t2.join()\n",
        "\n",
        "# Final state of the list\n",
        "print(f\"Final list: {numbers}\")\n"
      ],
      "metadata": {
        "colab": {
          "base_uri": "https://localhost:8080/"
        },
        "id": "_ltLgORd16bh",
        "outputId": "1975b0dd-f3be-4359-824c-f08662771ead"
      },
      "execution_count": 12,
      "outputs": [
        {
          "output_type": "stream",
          "name": "stdout",
          "text": [
            "Added: 1\n",
            "Removed: 1\n",
            "Added: 2\n",
            "Added: 3\n",
            "Removed: 2\n",
            "Added: 4\n",
            "Removed: 3\n",
            "Added: 5\n",
            "Added: 6\n",
            "Removed: 4\n",
            "Added: 7\n",
            "Removed: 5\n",
            "Added: 8\n",
            "Added: 9\n",
            "Removed: 6\n",
            "Added: 10\n",
            "Removed: 7\n",
            "Removed: 8\n",
            "Removed: 9\n",
            "Removed: 10\n",
            "Final list: []\n"
          ]
        }
      ]
    },
    {
      "cell_type": "code",
      "source": [
        "5. Describe the methods and tools available in Python for safely sharing data between threads and processes.\n",
        "ANS\n",
        "A.Sharing Data Between Threads\n",
        "1.Locks:\n",
        "Purpose: Prevents multiple threads from accessing shared data at the same time.\n",
        "WORK PROCESS: A lock ensures that only one thread can execute a block of code that modifies shared data, preventing race conditions.\n",
        "2.Events:\n",
        "Purpose: Allows threads to communicate with each other using signals.\n",
        "WORK PROCESS: One thread can signal an event, and other threads can wait for this signal to proceed with their tasks.\n",
        "3.Queues:\n",
        "Purpose: Provides a thread-safe way to exchange data between threads.\n",
        "WORK PROCESS: Threads can safely add data to the queue and retrieve data from it, ensuring that the data exchange is managed properly.\n",
        "\n",
        "B.Sharing Data Between Processes\n",
        "\n",
        "1.Queues:\n",
        "Purpose: Similar to thread queues, but designed for inter-process communication.\n",
        "WORK PROCESS: Processes can safely add data to the queue and retrieve data from it, facilitating data exchange between processes.\n",
        "2.Pipes:\n",
        "Purpose: Provides a two-way communication channel between processes.\n",
        "WORK PROCESS: One process can send data through the pipe, and another process can receive it, enabling direct communication.\n",
        "3.Shared Memory:\n",
        "Purpose: Allows sharing of simple data types and arrays between processes.\n",
        "WORK PROCESS: Processes can access and modify shared memory values or arrays, ensuring that data is shared efficiently without duplication."
      ],
      "metadata": {
        "id": "41UpstL_2Anr"
      },
      "execution_count": null,
      "outputs": []
    },
    {
      "cell_type": "code",
      "source": [
        "6. Discuss why it's crucial to handle exceptions in concurrent programs and the techniques available for doing so.\n",
        "ANS-\n",
        "Exceptions are an essential part of any programming language, providing a mechanism to handle unexpected or error conditions. In concurrent programs, however, handling exceptions becomes even more critical due to the potential for race conditions, deadlocks, and other synchronization issues.\n",
        "\n",
        "Why Exception Handling is Crucial in Concurrent Programs:\n",
        "Preventing Program Crashes: Unhandled exceptions can lead to program crashes, especially in concurrent environments where multiple threads or processes are interacting. This can disrupt the application's functionality and potentially result in data loss or corruption.\n",
        "Maintaining Program Stability: By effectively handling exceptions, you can prevent your concurrent program from becoming unstable. This ensures that the application continues to operate as expected, even in the face of unexpected errors.\n",
        "Improving User Experience: A well-handled exception can provide informative feedback to the user, helping them understand the problem and take appropriate action. This can improve the overall user experience.\n",
        "Techniques for Handling Exceptions in Concurrent Programs:\n",
        "Separate Exception Handling for Threads and Processes:\n",
        "\n",
        "Thread-specific exception handling: Each thread can handle its own exceptions using standard try-except blocks.\n",
        "Process-specific exception handling: When dealing with processes, consider using mechanisms like multiprocessing.Pool or multiprocessing.Process that provide built-in exception handling.\n",
        "Use Context Managers:\n",
        "\n",
        "Context managers (like with statements) can be used to ensure that resources are acquired and released properly, even in the presence of exceptions. This helps prevent resource leaks and deadlocks.\n",
        "Centralized Exception Handling:\n",
        "\n",
        "For large-scale concurrent applications, consider implementing a centralized exception handling mechanism that can capture and log exceptions from multiple threads or processes. This can help with debugging and troubleshooting.\n",
        "Handle Synchronization Exceptions:\n",
        "\n",
        "Be aware of exceptions that can occur due to synchronization issues, such as deadlocks or race conditions. Use appropriate synchronization primitives (locks, semaphores, etc.) to prevent these exceptions.\n",
        "Test Thoroughly:\n",
        "\n",
        "Thorough testing is essential to identify and address potential exceptions in concurrent programs. Use unit tests, integration tests, and load testing to simulate various scenarios and ensure that your exception handling mechanisms are working as expected"
      ],
      "metadata": {
        "id": "IZx9pgOq2C6e"
      },
      "execution_count": null,
      "outputs": []
    },
    {
      "cell_type": "code",
      "source": [
        "7. Create a program that uses a thread pool to calculate the factorial of numbers from 1 to 10 concurrently, Use concurrent.futures.ThreadPoolExecutor to manage the threads,\n",
        "ANS-\n",
        "import concurrent.futures\n",
        "import time\n",
        "\n",
        "def factorial(n):\n",
        "    if n == 0:\n",
        "        return 1\n",
        "    else:\n",
        "        return n * factorial(n - 1)\n",
        "\n",
        "def main():\n",
        "    numbers = list(range(1, 11))\n",
        "    with concurrent.futures.ThreadPoolExecutor() as executor:\n",
        "        results = executor.map(factorial, numbers)\n",
        "\n",
        "    for number, result in zip(numbers, results):\n",
        "        print(f\"Factorial of {number} is {result}\")\n",
        "\n",
        "if __name__ == \"__main__\":\n",
        "    start_time = time.time()\n",
        "    main()\n",
        "    end_time = time.time()\n",
        "    print(\"Time taken:\", end_time - start_time)\n"
      ],
      "metadata": {
        "colab": {
          "base_uri": "https://localhost:8080/"
        },
        "id": "WROsdbzm2HH7",
        "outputId": "6cbeaa0a-ebf2-448d-ccef-664648c87654"
      },
      "execution_count": 10,
      "outputs": [
        {
          "output_type": "stream",
          "name": "stdout",
          "text": [
            "Factorial of 1 is 1\n",
            "Factorial of 2 is 2\n",
            "Factorial of 3 is 6\n",
            "Factorial of 4 is 24\n",
            "Factorial of 5 is 120\n",
            "Factorial of 6 is 720\n",
            "Factorial of 7 is 5040\n",
            "Factorial of 8 is 40320\n",
            "Factorial of 9 is 362880\n",
            "Factorial of 10 is 3628800\n",
            "Time taken: 0.005071401596069336\n"
          ]
        }
      ]
    },
    {
      "cell_type": "code",
      "source": [
        "8.Create a Python program that uses multiprocessing Pool to compute the square of numbers from 1 to 10 in parallel. Measure the time taken to perform this computation using a pool of different sizes (eg. 24,8 processes).\n",
        "\n",
        "import multiprocessing as mp\n",
        "import time\n",
        "\n",
        "# Function to compute the square of a number\n",
        "def square(n):\n",
        "    return n ** 2\n",
        "\n",
        "# Function to compute squares using a pool and measure time\n",
        "def compute_squares(pool_size):\n",
        "    print(f\"\\nUsing Pool of size: {pool_size}\")\n",
        "\n",
        "    # Start the timer\n",
        "    start_time = time.time()\n",
        "\n",
        "    # Create a pool of worker processes\n",
        "    with mp.Pool(pool_size) as pool:\n",
        "        # Map the square function to the range of numbers\n",
        "        results = pool.map(square, range(1, 11))  # Numbers from 1 to 10\n",
        "\n",
        "    # Stop the timer\n",
        "    end_time = time.time()\n",
        "\n",
        "    # Print the results\n",
        "    print(f\"Results: {results}\")\n",
        "    print(f\"Time taken: {end_time - start_time:.4f} seconds\")\n",
        "\n",
        "if __name__ == \"__main__\":\n",
        "    # Compute squares with different pool sizes\n",
        "    compute_squares(24)\n",
        "    compute_squares(8)\n"
      ],
      "metadata": {
        "colab": {
          "base_uri": "https://localhost:8080/"
        },
        "id": "nIbudAFn2KtY",
        "outputId": "31af3709-b3f7-42bd-f9ec-5a691eb3984c"
      },
      "execution_count": 11,
      "outputs": [
        {
          "output_type": "stream",
          "name": "stdout",
          "text": [
            "\n",
            "Using Pool of size: 24\n",
            "Results: [1, 4, 9, 16, 25, 36, 49, 64, 81, 100]\n",
            "Time taken: 0.3005 seconds\n",
            "\n",
            "Using Pool of size: 8\n",
            "Results: [1, 4, 9, 16, 25, 36, 49, 64, 81, 100]\n",
            "Time taken: 0.0899 seconds\n"
          ]
        }
      ]
    }
  ]
}